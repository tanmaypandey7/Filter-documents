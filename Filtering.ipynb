{
 "cells": [
  {
   "cell_type": "code",
   "execution_count": 1,
   "metadata": {},
   "outputs": [],
   "source": [
    "from nltk.tokenize import sent_tokenize"
   ]
  },
  {
   "cell_type": "code",
   "execution_count": 5,
   "metadata": {},
   "outputs": [],
   "source": [
    "def filter_stuff(file1,file2):\n",
    "    filter_=sent_tokenize(file2)\n",
    "    filter_pre=[x.split(\"\\n\\n\") for x in filter_]\n",
    "    filter_pre=flatten(filter_pre)\n",
    "    filter_pre=[x.replace(\"\\n\",\" \") for x in filter_pre]\n",
    "    for t in filter_pre:\n",
    "        if t in file1:\n",
    "            file1=file1.replace(t,\"\")\n",
    "    return file1"
   ]
  },
  {
   "cell_type": "code",
   "execution_count": 6,
   "metadata": {},
   "outputs": [],
   "source": [
    "def flatten(input):\n",
    "    new_list = []\n",
    "    for i in input:\n",
    "        for j in i:\n",
    "            new_list.append(j)\n",
    "    return new_list"
   ]
  },
  {
   "cell_type": "code",
   "execution_count": 7,
   "metadata": {},
   "outputs": [
    {
     "name": "stdout",
     "output_type": "stream",
     "text": [
      "  Home Elections Breaking: House GOP declares war on the FBI Breaking: House GOP declares war on the FBI 1/29/18 7:28pm by John Aravosis 8 Tweet Tweet Democratic Rep Adam Schiff just announced that the Republicans on the House Intelligence Committee have opened an investigation of the FBI and the Department of Justice in order to undermine Mueller’s investigation of Trump’s collusion with Russia. The GOP members of the House Intelligence Committee refused to let the FBI come to brief them on why the “Nunes Memo” is wrong, and why it would be dangerous to national security to make it public. The request to brief them came directly from the director of the FBI, a Trump appointee. The GOP said “no.” You’ll recall that the Nunes memo was written by House Intelligence Committee chair Devin Nunes, who has lied in the past to defend Donald Trump and undercut the Mueller investigation. The memo claims that the DOJ and FBI have become cronies for Hillary Clinton, and have an anti-Trump bias. Which is ironic, since the FBI helped get Trump elected, and is a notoriously conservative institution. The memo claims that the DOJ and FBI corruptly investigated Trump-Russia, which is absurd. The Republicans today voted to make public their partisan memo attacking the FBI & DOJ, but refused to make public the Democratic memo defending the FBI & DOJ. The Republican party crossed a line today. We’re in banana republic territory now. Watergate territory. And it involves not just Trump, but the entire Republican congress. We now have a full blown crisis, and I fear what comes next. Trump and the GOP Congress forced the resignation of the #2 in the FBI today (you can hear our latest podcast about that here). And the Nunes Memo attempts to force the resignation of the #2 at the DOJ. We are witnessing a full blown Saturday Night Massacre started by Donald Trump and enabled by the GOP Congress. And no one in the Trump administration or the leadership of the GOP Congress cares about what Russia did to undermine our election, or continues to do to undermine our democracy. This is outrageous, un-American and treasonous behavior by the Republican party. There is literally NO ONE in the Trump administration coordinating the response to Russia’s ongoing attempts to undermine our democracy. NO ONE. Trump is doing NOTHING to stop the Russians from attacking us. When will say “enough” And now the House Intelligence Committee is actively trying to kill the Mueller probe while starting a new investigation accusing the FBI and Dept of Justice of being a criminal hotbed because the FBI & DOJ are the only way we’re going to stop Russia. Who needs Vladimir Putin when you have Donald Trump, Devin Nunes, Paul Ryan and Mitch McConnell undercutting our democracy and our democratic institutions, from law enforcement to the media, to protect Trump & Russia. Never has our country seen such un-American traitors. Paul Ryan did this. Along with Trump, Nunes & McConnell. Ryan just today said that he agreed with Nunes about the false, defamatory anti-FBI memo meant to undercut the Mueller probe. Let’s make Ryan pay. Donate to Ryan’s 2018 election opponent Randy Bryce here. The only way to stop these people, short of revolution, is at the ballot box this November. We have to DESTROY the GOP in the Fall elections. And let’s start with Paul Ryan, who may actually be in danger of losing his seat. Donate now to Democrat Randy Bryce and ask your friends to do the same. Thanks, JOHN Independent journalism and activism is more needed than ever. Please support my work with a $25 donation. We don’t make much on advertising, we need your support to continue our work. Thanks. Join my political action email list, you can subscribe here. Twitter: @aravosis Facebook. My personal page, AMERICAblog, UnPresidented Podcast Tags: 2018 elections, Paul Ryan, Robert Mueller, Russia, treason, Trump-Russia Next Newer Post Next Older Post John Aravosis Follow me on Twitter: @aravosis | @americablog | @americabloggay | Facebook | Instagram | Google+ | LinkedIn. John Aravosis is the Executive Editor of AMERICAblog, which he founded in 2004. He has a joint law degree (JD) and masters in Foreign Service from Georgetown; and has worked in the US Senate, World Bank, Children's Defense Fund, the United Nations Development Programme, and as a stringer for the Economist. He is a frequent TV pundit, having appeared on the O'Reilly Factor, Hardball, World News Tonight, Nightline, AM Joy & Reliable Sources, among others. John lives in Washington, DC. John's article archive. Share This Post Tweet SUBSCRIBE TO OUR NEW PODCAST Become a Patron! Subscribe to our new podcast on iTunes, and our premium episodes on Patreon. SHOP AMAZON AND EARN US A COMMISSION HELP US SHARE CONTENT ON FACEBOOK Recommended Recent Comments Marines want to leave Iraq 2,701 comments   11 Oct, 2007 This is why I harp on people who use the word ‘homosexual’ 2,362 comments   11 Feb, 2010 Famed Italian pasta maker Barilla: Gays can eat someone else’s pasta 2,091 comments   26 Sep, 2013 Forget about Mitt’s taxes. Check out Ryan’s abs! 1,851 comments   11 Oct, 2012 Is it time to clip American Airlines’ wings 1,805 comments   05 Oct, 2012 Support LGBT hero Zach Wahls 16 May, 2018 Guest Amanda Carpenter on how Trump is gaslighting America 15 May, 2018 Former FBI agent Asha Rangappa says Trump could never get a security clearance 10 May, 2018 CNN’s Jake Tapper on journalism in the Trump era & his new book “Hellfire Club” 08 May, 2018 Trump just lost Fox News 04 May, 2018 Mr. Mugwump: Well the dems will have their day of reckoning thi... Manhattan: Malaka! MoonDragon: Is she worried that Hope Hicks has poached her sty... brel1: Just another media stunt by the Trumps. They just ... Badgerite: Two planes. Two buildings. Two crumbling build... Masthead AMERICAblog News is a publication of  Editor & Founder: John Aravosis | @aravosis Writers: Melissa Ryan Chris Trejbal Chris Andoe Lucas Ropek Join our email update/action list. Blogroll Crooks and Liars Daily Kos Dan Savage's Slog Eschaton FireDogLake FiveThirtyEight Glenn Greenwald Huffington Post Hullabaloo Jack and Jill Politics Kevin Drum Political Wire Raw Story Rude Pundit Talk Left Taylor Marsh Blogroll Bis Bay Area Reporter Bay Windows Bilerico BosGuy Dallas Voice David Mixner Good As You Joe My God Kenneth in 212 Metro Weekly New Civil Rights Movement Rex Wockner Towleroad Truth Wins Out Washington Blade UnPresidented Podcast Join the “UnPresidented” podcast team with a $5/month subscription, and help us make Donald Trump an ex-President, while getting access to interviews with great guests like Malcolm Nance, Rick Wilson, Ted Lieu, Jake Tapper, Asha Rangappa, Shannon Moore, Dan Savage, David Frum, Jared Yates Sexton and more. AMERICAblog RSS Feeds  News (everything)  Elections  LGBT  Video  Pets  Fun Stuff Google+ Archives Archives Select Month May 2018 April 2018 March 2018 February 2018 January 2018 December 2017 November 2017 October 2017 September 2017 August 2017 July 2017 June 2017 May 2017 April 2017 March 2017 February 2017 January 2017 December 2016 November 2016 October 2016 September 2016 August 2016 July 2016 June 2016 May 2016 April 2016 March 2016 February 2016 January 2016 December 2015 November 2015 October 2015 September 2015 August 2015 July 2015 June 2015 May 2015 April 2015 March 2015 February 2015 January 2015 December 2014 November 2014 October 2014 September 2014 August 2014 July 2014 June 2014 May 2014 April 2014 March 2014 February 2014 January 2014 December 2013 November 2013 October 2013 September 2013 August 2013 July 2013 June 2013 May 2013 April 2013 March 2013 February 2013 January 2013 December 2012 November 2012 October 2012 September 2012 August 2012 July 2012 June 2012 May 2012 April 2012 March 2012 February 2012 January 2012 December 2011 November 2011 October 2011 September 2011 August 2011 July 2011 June 2011 May 2011 April 2011 March 2011 February 2011 January 2011 December 2010 November 2010 October 2010 September 2010 August 2010 July 2010 June 2010 May 2010 April 2010 March 2010 February 2010 January 2010 December 2009 November 2009 October 2009 September 2009 August 2009 July 2009 June 2009 May 2009 April 2009 March 2009 February 2009 January 2009 December 2008 November 2008 October 2008 September 2008 August 2008 July 2008 June 2008 May 2008 April 2008 March 2008 February 2008 January 2008 December 2007 November 2007 October 2007 September 2007 August 2007 July 2007 June 2007 May 2007 April 2007 March 2007 February 2007 January 2007 December 2006 November 2006 October 2006 September 2006 August 2006 July 2006 June 2006 May 2006 April 2006 March 2006 February 2006 January 2006 December 2005 November 2005 October 2005 September 2005 August 2005 July 2005 June 2005 May 2005 April 2005 March 2005 February 2005 January 2005 December 2004 November 2004 October 2004 September 2004 August 2004 July 2004 June 2004 May 2004 April 2004 © 2018   \n"
     ]
    }
   ],
   "source": [
    "file1=open(\"C:/Users/Tanmay/Downloads/americablog_com_201801.txt\",\"r\")\n",
    "file_contents1=file1.read()\n",
    "# print(file_contents)\n",
    "file2=open(\"C:/Users/Tanmay/Downloads/fliter.txt\",\"r\")\n",
    "file_contents2=file2.read()\n",
    "file1.close()\n",
    "file2.close()\n",
    "\n",
    "result=filter_stuff(file_contents1,file_contents2)\n",
    "print(result)"
   ]
  },
  {
   "cell_type": "code",
   "execution_count": null,
   "metadata": {},
   "outputs": [],
   "source": []
  }
 ],
 "metadata": {
  "kernelspec": {
   "display_name": "Python 3",
   "language": "python",
   "name": "python3"
  },
  "language_info": {
   "codemirror_mode": {
    "name": "ipython",
    "version": 3
   },
   "file_extension": ".py",
   "mimetype": "text/x-python",
   "name": "python",
   "nbconvert_exporter": "python",
   "pygments_lexer": "ipython3",
   "version": "3.6.5"
  }
 },
 "nbformat": 4,
 "nbformat_minor": 2
}
